{
 "cells": [
  {
   "cell_type": "markdown",
   "metadata": {},
   "source": [
    "<h3> 5 </h3>\n",
    "In DQMC codes one of the most computationally expensive steps involves calculating determinates for the accept/reject step of a proposed move. Shaozhi Li has shown that using two separate, fully-connected CNN it is possible to accelerate both global and local updates of the Bosonic phonon fields in the 2D Holstein model. (arXiv:1905.07440v1) The question remains as to whether this technique is adaptable to Fermionic Hubbard Stratonovich fields.<br><br>I will attempt to apply similar techniques to the Hubbard model's HS fields. Given this is for a class, I will limit my lattice to a 2x2 structure and use a single band. As this is a proof of concept, I will train a model across numerous MPI ranks after a brief thermalization period. Then I will do a comparison of update tests using the conventional algorithm and the ML update and accrue statistics.\n",
    "\n",
    "\n",
    "\n"
   ]
  },
  {
   "cell_type": "code",
   "execution_count": null,
   "metadata": {},
   "outputs": [],
   "source": []
  }
 ],
 "metadata": {
  "kernelspec": {
   "display_name": "Python 3 (ml4s)",
   "language": "python",
   "name": "ml4s"
  },
  "language_info": {
   "codemirror_mode": {
    "name": "ipython",
    "version": 3
   },
   "file_extension": ".py",
   "mimetype": "text/x-python",
   "name": "python",
   "nbconvert_exporter": "python",
   "pygments_lexer": "ipython3",
   "version": "3.7.9"
  }
 },
 "nbformat": 4,
 "nbformat_minor": 4
}
