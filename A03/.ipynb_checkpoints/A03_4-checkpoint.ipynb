{
 "cells": [
  {
   "cell_type": "code",
   "execution_count": 3,
   "metadata": {},
   "outputs": [],
   "source": [
    "import numpy as np\n",
    "import matplotlib.pyplot as plt\n",
    "import sys\n",
    "import tensorflow as tf\n",
    "from tensorflow import keras\n",
    "from tensorflow.keras import layers\n",
    "%matplotlib inline\n",
    "%config InlineBackend.figure_format = 'retina'\n",
    "np.set_printoptions(linewidth=120)"
   ]
  },
  {
   "cell_type": "code",
   "execution_count": 7,
   "metadata": {},
   "outputs": [],
   "source": [
    "''' Define my functions\n",
    "    Note, A gaussian = 0, lorentzian = 1 '''\n",
    "\n",
    "def gaussian(_A,_mu,_sigma,_x):\n",
    "    return _A*np.exp(-(_x-_mu)**2/(2*(_sigma**2)))\n",
    "\n",
    "def randgaussian(_A_max,_mu_pad,_sigma_max,_xmin,_xmax,_num_pts):\n",
    "    _arr = np.zeros(_num_pts)\n",
    "    _X = np.linspace(_xmin,_xmax,_num_pts)\n",
    "    _A = np.random.uniform(low=_A_max*0.1,high=_A_max)\n",
    "    _mu = np.random.uniform(low=_xmin+abs(_mu_pad),high=_xmax-abs(_mu_pad))\n",
    "    _sigma = np.random.uniform(low=_sigma_max*0.1,high=_sigma_max)\n",
    "    return gaussian(_A,_mu,_sigma,_X)\n",
    "\n",
    "def cauchy(_A,_mu,_sigma,_x):\n",
    "    return _A/(((_x-_mu)**2/_sigma**2)+1)\n",
    "\n",
    "def randcauchy(_A_max,_mu_pad,_sigma_max,_xmin,_xmax,_num_pts):\n",
    "    _arr = np.zeros(_num_pts)\n",
    "    _X = np.linspace(_xmin,_xmax,_num_pts)\n",
    "    _A = np.random.uniform(low=_A_max*0.1,high=_A_max)\n",
    "    _mu = np.random.uniform(low=_xmin+abs(_mu_pad),high=_xmax-abs(_mu_pad))\n",
    "    _sigma = np.random.uniform(low=_sigma_max*0.1,high=_sigma_max)\n",
    "    return cauchy(_A,_mu,_sigma,_X)\n",
    "\n",
    "def makedataset(_num_dist,_prob_gauss,_xmin,_xmax,_num_pts):\n",
    "    _A_max = 1.0\n",
    "    _mu_pad = 1.0\n",
    "    _sigma_max = 1.0\n",
    "    _X = np.linspace(_xmin,_xmax,_num_pts)\n",
    "    _class = np.zeros(_num_dist)\n",
    "    _Y = np.zeros((_num_dist,_num_pts))\n",
    "    for i in range(_num_dist):\n",
    "        rnd = np.random.uniform(low=0.,high=1.)\n",
    "        if (rnd < _prob_gauss):\n",
    "            _class[i] = 0\n",
    "            _Y[i,:] = randgaussian(_A_max,_mu_pad,_sigma_max,_xmin,_xmax,_num_pts)\n",
    "        else:\n",
    "            _class[i] = 1\n",
    "            _Y[i,:] = randcauchy(_A_max,_mu_pad,_sigma_max,_xmin,_xmax,_num_pts)\n",
    "    return _Y,_class\n"
   ]
  },
  {
   "cell_type": "code",
   "execution_count": 15,
   "metadata": {},
   "outputs": [],
   "source": [
    "# Build the dataset\n",
    "num_pts = 200\n",
    "num_dist = 10000\n",
    "ratio_gauss = 0.5\n",
    "x_low = -5\n",
    "x_high = 5\n",
    "\n",
    "X,Y = makedataset(num_dist,ratio_gauss,x_low,x_high,num_pts)\n",
    "\n",
    "from sklearn.model_selection import train_test_split\n",
    "x_train, x_test, y_train, y_test = train_test_split(X, Y, test_size=0.1)"
   ]
  },
  {
   "cell_type": "code",
   "execution_count": 28,
   "metadata": {},
   "outputs": [
    {
     "name": "stdout",
     "output_type": "stream",
     "text": [
      "Model: \"sequential_4\"\n",
      "_________________________________________________________________\n",
      "Layer (type)                 Output Shape              Param #   \n",
      "=================================================================\n",
      "dense_11 (Dense)             (None, 100)               20100     \n",
      "_________________________________________________________________\n",
      "dense_12 (Dense)             (None, 10)                1010      \n",
      "_________________________________________________________________\n",
      "dense_13 (Dense)             (None, 1)                 11        \n",
      "=================================================================\n",
      "Total params: 21,121\n",
      "Trainable params: 21,121\n",
      "Non-trainable params: 0\n",
      "_________________________________________________________________\n"
     ]
    }
   ],
   "source": [
    "#Build a model\n",
    "model = keras.Sequential(\n",
    "[\n",
    "    layers.Dense(10,input_shape=(num_pts,),activation='relu'),\n",
    "    layers.Dense(10,activation='relu'),\n",
    "    layers.Dense(1, activation='sigmoid')\n",
    "])\n",
    "model.summary()\n",
    "model.compile(loss=keras.losses.binary_crossentropy, optimizer='adam', metrics=['accuracy'])"
   ]
  },
  {
   "cell_type": "code",
   "execution_count": 29,
   "metadata": {},
   "outputs": [
    {
     "name": "stdout",
     "output_type": "stream",
     "text": [
      "Epoch 1/30\n",
      "282/282 [==============================] - 1s 2ms/step - loss: 0.6292 - accuracy: 0.6618 - val_loss: 0.3961 - val_accuracy: 0.8450\n",
      "Epoch 2/30\n",
      "282/282 [==============================] - 0s 2ms/step - loss: 0.3383 - accuracy: 0.8566 - val_loss: 0.2061 - val_accuracy: 0.9370\n",
      "Epoch 3/30\n",
      "282/282 [==============================] - 0s 2ms/step - loss: 0.1823 - accuracy: 0.9402 - val_loss: 0.1129 - val_accuracy: 0.9770\n",
      "Epoch 4/30\n",
      "282/282 [==============================] - 0s 2ms/step - loss: 0.1077 - accuracy: 0.9778 - val_loss: 0.0695 - val_accuracy: 0.9940\n",
      "Epoch 5/30\n",
      "282/282 [==============================] - 0s 2ms/step - loss: 0.0654 - accuracy: 0.9881 - val_loss: 0.0471 - val_accuracy: 0.9870\n",
      "Epoch 6/30\n",
      "282/282 [==============================] - 0s 2ms/step - loss: 0.0443 - accuracy: 0.9930 - val_loss: 0.0340 - val_accuracy: 0.9960\n",
      "Epoch 7/30\n",
      "282/282 [==============================] - 0s 2ms/step - loss: 0.0324 - accuracy: 0.9955 - val_loss: 0.0291 - val_accuracy: 0.9970\n",
      "Epoch 8/30\n",
      "282/282 [==============================] - 0s 2ms/step - loss: 0.0232 - accuracy: 0.9965 - val_loss: 0.0234 - val_accuracy: 0.9960\n",
      "Epoch 9/30\n",
      "282/282 [==============================] - 0s 2ms/step - loss: 0.0169 - accuracy: 0.9990 - val_loss: 0.0133 - val_accuracy: 0.9990\n",
      "Epoch 10/30\n",
      "282/282 [==============================] - 0s 2ms/step - loss: 0.0132 - accuracy: 0.9997 - val_loss: 0.0111 - val_accuracy: 1.0000\n",
      "Epoch 11/30\n",
      "282/282 [==============================] - 0s 2ms/step - loss: 0.0110 - accuracy: 0.9999 - val_loss: 0.0107 - val_accuracy: 0.9980\n",
      "Epoch 12/30\n",
      "282/282 [==============================] - 0s 2ms/step - loss: 0.0086 - accuracy: 0.9994 - val_loss: 0.0070 - val_accuracy: 1.0000\n",
      "Epoch 13/30\n",
      "282/282 [==============================] - 0s 2ms/step - loss: 0.0063 - accuracy: 1.0000 - val_loss: 0.0061 - val_accuracy: 1.0000\n",
      "Epoch 14/30\n",
      "282/282 [==============================] - 0s 2ms/step - loss: 0.0052 - accuracy: 1.0000 - val_loss: 0.0057 - val_accuracy: 1.0000\n",
      "Epoch 15/30\n",
      "282/282 [==============================] - 0s 2ms/step - loss: 0.0047 - accuracy: 1.0000 - val_loss: 0.0039 - val_accuracy: 1.0000\n",
      "Epoch 16/30\n",
      "282/282 [==============================] - 0s 2ms/step - loss: 0.0034 - accuracy: 1.0000 - val_loss: 0.0044 - val_accuracy: 0.9980\n",
      "Epoch 17/30\n",
      "282/282 [==============================] - 0s 2ms/step - loss: 0.0026 - accuracy: 1.0000 - val_loss: 0.0045 - val_accuracy: 0.9980\n",
      "Epoch 18/30\n",
      "282/282 [==============================] - 0s 2ms/step - loss: 0.0035 - accuracy: 0.9997 - val_loss: 0.0028 - val_accuracy: 1.0000\n",
      "Epoch 19/30\n",
      "282/282 [==============================] - 0s 2ms/step - loss: 0.0040 - accuracy: 0.9994 - val_loss: 0.0025 - val_accuracy: 1.0000\n",
      "Epoch 20/30\n",
      "282/282 [==============================] - 0s 2ms/step - loss: 0.0015 - accuracy: 1.0000 - val_loss: 0.0024 - val_accuracy: 1.0000\n",
      "Epoch 21/30\n",
      "282/282 [==============================] - 0s 2ms/step - loss: 0.0016 - accuracy: 1.0000 - val_loss: 0.0025 - val_accuracy: 1.0000\n",
      "Epoch 22/30\n",
      "282/282 [==============================] - 0s 2ms/step - loss: 0.0012 - accuracy: 1.0000 - val_loss: 0.0014 - val_accuracy: 1.0000\n",
      "Epoch 23/30\n",
      "282/282 [==============================] - 0s 2ms/step - loss: 8.4280e-04 - accuracy: 1.0000 - val_loss: 0.0011 - val_accuracy: 1.0000\n",
      "Epoch 24/30\n",
      "282/282 [==============================] - 0s 2ms/step - loss: 0.0010 - accuracy: 1.0000 - val_loss: 0.0012 - val_accuracy: 1.0000\n",
      "Epoch 25/30\n",
      "282/282 [==============================] - 0s 2ms/step - loss: 8.0725e-04 - accuracy: 1.0000 - val_loss: 8.8629e-04 - val_accuracy: 1.0000\n",
      "Epoch 26/30\n",
      "282/282 [==============================] - 0s 2ms/step - loss: 7.2176e-04 - accuracy: 1.0000 - val_loss: 0.0011 - val_accuracy: 1.0000\n",
      "Epoch 27/30\n",
      "282/282 [==============================] - 0s 2ms/step - loss: 5.9778e-04 - accuracy: 1.0000 - val_loss: 7.4095e-04 - val_accuracy: 1.0000\n",
      "Epoch 28/30\n",
      "282/282 [==============================] - 0s 2ms/step - loss: 3.6992e-04 - accuracy: 1.0000 - val_loss: 9.5120e-04 - val_accuracy: 1.0000\n",
      "Epoch 29/30\n",
      "282/282 [==============================] - 0s 2ms/step - loss: 9.5627e-04 - accuracy: 0.9997 - val_loss: 6.5268e-04 - val_accuracy: 1.0000\n",
      "Epoch 30/30\n",
      "282/282 [==============================] - 0s 2ms/step - loss: 3.3535e-04 - accuracy: 1.0000 - val_loss: 5.5062e-04 - val_accuracy: 1.0000\n"
     ]
    }
   ],
   "source": [
    "# Run it\n",
    "batch_size = 300\n",
    "epochs = 30\n",
    "\n",
    "training_history = {}\n",
    "training_history['test'] = model.fit(x_train,y_train, epochs=epochs,validation_data=(x_test,y_test), verbose=1)"
   ]
  },
  {
   "cell_type": "code",
   "execution_count": 30,
   "metadata": {},
   "outputs": [
    {
     "data": {
      "image/png": "[encoded data removed]",
      "text/plain": [
       "<Figure size 360x360 with 2 Axes>"
      ]
     },
     "metadata": {
      "image/png": {
       "height": 319,
       "width": 332
      },
      "needs_background": "light"
     },
     "output_type": "display_data"
    }
   ],
   "source": [
    "# look into training history\n",
    "colors = plt.rcParams['axes.prop_cycle'].by_key()['color']\n",
    "fig,ax = plt.subplots(2,1, sharex=True, sharey=True, figsize=(5,5))\n",
    "\n",
    "# summarize history for accuracy\n",
    "ax[0].plot(training_history['test'].history['accuracy'])\n",
    "ax[0].plot(training_history['test'].history['val_accuracy'], ls='--', color=colors[-3])\n",
    "ax[0].set_ylabel('model accuracy')\n",
    "ax[0].legend(['train', 'test'], loc='best')\n",
    "ax[0].set_ylim(0,1)\n",
    "\n",
    "# summarize history for loss\n",
    "ax[1].plot(training_history['test'].history['loss'])\n",
    "ax[1].plot(training_history['test'].history['val_loss'], ls='--', color=colors[-3])\n",
    "ax[1].set_ylabel('model loss')\n",
    "ax[1].set_xlabel('epoch')\n",
    "ax[1].legend(['train', 'test'], loc='best');"
   ]
  },
  {
   "cell_type": "code",
   "execution_count": 40,
   "metadata": {},
   "outputs": [
    {
     "name": "stdout",
     "output_type": "stream",
     "text": [
      "32/32 - 0s - loss: 5.5062e-04 - accuracy: 1.0000\n",
      "Num. Mistakes  = 0\n"
     ]
    }
   ],
   "source": [
    "# evaluate model\n",
    "score = model.evaluate(x_test, y_test, verbose=2)\n",
    "\n",
    "predictions = np.zeros(X.shape[0],dtype=int)\n",
    "predictions[np.where(model(X)>=0.5)[0]] = 1\n",
    "\n",
    "mistakes = np.where(Y != predictions)[0]\n",
    "num_mistakes = len(mistakes)\n",
    "\n",
    "print(f'Num. Mistakes  = {num_mistakes}')"
   ]
  },
  {
   "cell_type": "code",
   "execution_count": null,
   "metadata": {},
   "outputs": [],
   "source": []
  }
 ],
 "metadata": {
  "kernelspec": {
   "display_name": "Python 3 (ml4s)",
   "language": "python",
   "name": "ml4s"
  },
  "language_info": {
   "codemirror_mode": {
    "name": "ipython",
    "version": 3
   },
   "file_extension": ".py",
   "mimetype": "text/x-python",
   "name": "python",
   "nbconvert_exporter": "python",
   "pygments_lexer": "ipython3",
   "version": "3.7.9"
  }
 },
 "nbformat": 4,
 "nbformat_minor": 4
}
