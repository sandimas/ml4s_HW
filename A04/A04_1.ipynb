{
 "cells": [
  {
   "cell_type": "markdown",
   "metadata": {},
   "source": [
    "<h3>A04_1</h3>"
   ]
  },
  {
   "cell_type": "code",
   "execution_count": 1,
   "metadata": {},
   "outputs": [],
   "source": [
    "# %load ./include/header.py\n",
    "import numpy as np\n",
    "import matplotlib.pyplot as plt\n",
    "import sys\n",
    "%matplotlib inline\n",
    "%config InlineBackend.figure_format = 'retina'\n",
    "np.set_printoptions(linewidth=120)\n",
    "colors = plt.rcParams['axes.prop_cycle'].by_key()['color']\n",
    "pi = np.pi"
   ]
  },
  {
   "cell_type": "code",
   "execution_count": 2,
   "metadata": {},
   "outputs": [],
   "source": [
    "import tensorflow as tf\n",
    "from tensorflow import keras\n",
    "from tensorflow.keras import layers"
   ]
  },
  {
   "cell_type": "markdown",
   "metadata": {},
   "source": [
    "Load and pre-process images"
   ]
  },
  {
   "cell_type": "code",
   "execution_count": 69,
   "metadata": {},
   "outputs": [],
   "source": [
    "mydigits = []\n",
    "my_x = []\n",
    "yval = []\n",
    "MNIST_len = 28\n",
    "kernel_size = 7\n",
    "kernel_size_2 = int(kernel_size/2)\n",
    "gauss_sigma = 1\n",
    "\n",
    "\n",
    "def gauss_2d(x,y,sigma):\n",
    "    return np.exp(-(x**2+y**2)/(2*sigma**2))\n",
    "\n",
    "def downsample(_image,_new_len):\n",
    "    _sigma = gauss_sigma\n",
    "    _outimage = np.zeros((_new_len,_new_len))\n",
    "    n_pix=np.shape(_image)[0]\n",
    "    binratio = n_pix/_new_len\n",
    "    relative_coord = []\n",
    "    _image = np.pad(_image,(kernel_size_2,kernel_size_2),constant_values=0)\n",
    "    for i in range(_new_len):\n",
    "        for j in range(_new_len):\n",
    "            xcent = kernel_size_2+int(n_pix*i/_new_len)\n",
    "            ycent = kernel_size_2+int(n_pix*j/_new_len)\n",
    "            for i_old in range(xcent-kernel_size_2,xcent+kernel_size_2+1):\n",
    "                for j_old in range(ycent-kernel_size_2,ycent+kernel_size_2+1):\n",
    "                    relx = i/_new_len - (i_old-2)/n_pix\n",
    "                    rely = j/_new_len - (j_old-2)/n_pix\n",
    "                    _outimage[i,j] += gauss_2d(relx,rely,_sigma)*_image[i_old,j_old]\n",
    "#                     _outimage[i,j] = max(_outimage[i,j],_image[i_old,j_old])\n",
    "\n",
    "    return _outimage\n",
    "    \n",
    "\n",
    "for i in range(10):\n",
    "    yval.append(i)\n",
    "    #read\n",
    "    image = plt.imread(f'./my_digits/{i}_hi.png')[:,:,1]\n",
    "    image -= np.min(image)\n",
    "    image /= np.max(image)\n",
    "    image = 1-image\n",
    "\n",
    "    #rectangularize\n",
    "    shape = np.shape(image)\n",
    "    xlen = shape[0]\n",
    "    ylen = shape[1]\n",
    "    dif = xlen-ylen\n",
    "    if (dif > 0): #x > y\n",
    "        padl = dif//2\n",
    "        padr = dif - padl\n",
    "        image = image[padl:xlen-padr,:]\n",
    "    elif (dif < 0):\n",
    "        padl = -dif//2\n",
    "        padr = -dif - padl\n",
    "        image = image[:,padl:ylen-padr]\n",
    "    \n",
    "    # downsample\n",
    "    image = downsample(image,MNIST_len)\n",
    "    image -= np.min(image)\n",
    "    image /= np.max(image)\n",
    "    mydigits.append(image.flatten())\n",
    "    my_x.append(image)\n",
    "\n",
    "yval = np.array(yval)\n",
    "mydigits = np.array(mydigits)\n",
    "my_x = np.array(my_x)\n",
    "my_x = my_x.reshape(10,28,28,1)"
   ]
  },
  {
   "cell_type": "code",
   "execution_count": 70,
   "metadata": {},
   "outputs": [],
   "source": [
    "def plot_digit_array(x,y, show_prediction=False):\n",
    "    '''Expects a list of digits (x) and associated labels (y)'''\n",
    "    \n",
    "    # determine the number of rows and columns of our image array\n",
    "    num_digits = x.shape[0]\n",
    "    num_cols = int(np.sqrt(num_digits))\n",
    "    num_rows = num_digits//num_cols + 1\n",
    "\n",
    "    fig,ax = plt.subplots(nrows=num_rows,ncols=num_cols,sharex=True,sharey=True,\n",
    "                          figsize=(num_cols,num_rows))\n",
    "    \n",
    "    # plot all the numbers\n",
    "    for i,cax in enumerate(ax.flatten()):\n",
    "        if i < num_digits:\n",
    "            cax.matshow(x[i].reshape(28,28), cmap='binary')\n",
    "            cax.axis('off')\n",
    "            if show_prediction:\n",
    "                cax.text(0.99,0.99,f'{y[i]}',horizontalalignment='right',verticalalignment='top', \n",
    "                         transform=cax.transAxes, fontsize=8, color='r')\n",
    "        else:\n",
    "            cax.axis('off')"
   ]
  },
  {
   "cell_type": "markdown",
   "metadata": {},
   "source": [
    "Now the CNN"
   ]
  },
  {
   "cell_type": "code",
   "execution_count": 12,
   "metadata": {},
   "outputs": [],
   "source": [
    "# load the data\n",
    "(x_train, y_train), (x_test, y_test) = tf.keras.datasets.mnist.load_data()\n",
    "\n",
    "# determine the properties\n",
    "rows,cols = x_train[0].shape\n",
    "num_classes = 10\n",
    "\n",
    "x_train, x_test = x_train[..., np.newaxis]/255.0, x_test[..., np.newaxis]/255.0\n",
    "\n",
    "# use a built-in function to get 1-hot encoding\n",
    "y_train_hot = keras.utils.to_categorical(y_train, num_classes)\n",
    "y_test_hot = keras.utils.to_categorical(y_test, num_classes)\n",
    "\n",
    "yval_hot = keras.utils.to_categorical(yval, num_classes)"
   ]
  },
  {
   "cell_type": "code",
   "execution_count": 35,
   "metadata": {},
   "outputs": [
    {
     "name": "stdout",
     "output_type": "stream",
     "text": [
      "Model: \"sequential_2\"\n",
      "_________________________________________________________________\n",
      "Layer (type)                 Output Shape              Param #   \n",
      "=================================================================\n",
      "conv2d_4 (Conv2D)            (None, 28, 28, 12)        312       \n",
      "_________________________________________________________________\n",
      "max_pooling2d_4 (MaxPooling2 (None, 14, 14, 12)        0         \n",
      "_________________________________________________________________\n",
      "conv2d_5 (Conv2D)            (None, 10, 10, 30)        9030      \n",
      "_________________________________________________________________\n",
      "dropout_4 (Dropout)          (None, 10, 10, 30)        0         \n",
      "_________________________________________________________________\n",
      "max_pooling2d_5 (MaxPooling2 (None, 3, 3, 30)          0         \n",
      "_________________________________________________________________\n",
      "flatten_2 (Flatten)          (None, 270)               0         \n",
      "_________________________________________________________________\n",
      "dense_4 (Dense)              (None, 480)               130080    \n",
      "_________________________________________________________________\n",
      "dropout_5 (Dropout)          (None, 480)               0         \n",
      "_________________________________________________________________\n",
      "dense_5 (Dense)              (None, 10)                4810      \n",
      "=================================================================\n",
      "Total params: 144,232\n",
      "Trainable params: 144,232\n",
      "Non-trainable params: 0\n",
      "_________________________________________________________________\n"
     ]
    }
   ],
   "source": [
    "model = keras.Sequential(\n",
    "[\n",
    "    layers.Conv2D(input_shape=(rows,cols,1), kernel_size=(5, 5), filters=12,\n",
    "                  activation='relu', padding='same'),\n",
    "    layers.MaxPooling2D(pool_size=(2, 2)),\n",
    "    layers.Conv2D(30, (5, 5), activation='relu'),\n",
    "    layers.Dropout(0.5),\n",
    "    layers.MaxPooling2D(pool_size=(3, 3)),\n",
    "    layers.Flatten(),\n",
    "    layers.Dense(30*4*4, activation='relu'),\n",
    "    layers.Dropout(0.5),\n",
    "    layers.Dense(num_classes, activation='softmax')\n",
    "])\n",
    "\n",
    "model.compile(loss=keras.losses.categorical_crossentropy, optimizer='Adam', metrics=['accuracy'])\n",
    "\n",
    "model.summary()"
   ]
  },
  {
   "cell_type": "code",
   "execution_count": 36,
   "metadata": {},
   "outputs": [
    {
     "name": "stdout",
     "output_type": "stream",
     "text": [
      "Epoch 1/10\n",
      "938/938 [==============================] - 74s 78ms/step - loss: 0.5038 - accuracy: 0.8421 - val_loss: 0.0731 - val_accuracy: 0.9844\n",
      "Epoch 2/10\n",
      "938/938 [==============================] - 75s 80ms/step - loss: 0.0799 - accuracy: 0.9746 - val_loss: 0.0569 - val_accuracy: 0.9877\n",
      "Epoch 3/10\n",
      "938/938 [==============================] - 72s 77ms/step - loss: 0.0566 - accuracy: 0.9825 - val_loss: 0.0482 - val_accuracy: 0.9894\n",
      "Epoch 4/10\n",
      "938/938 [==============================] - 72s 77ms/step - loss: 0.0473 - accuracy: 0.9855 - val_loss: 0.0383 - val_accuracy: 0.9902\n",
      "Epoch 5/10\n",
      "938/938 [==============================] - 72s 77ms/step - loss: 0.0445 - accuracy: 0.9854 - val_loss: 0.0327 - val_accuracy: 0.9905\n",
      "Epoch 6/10\n",
      "938/938 [==============================] - 74s 79ms/step - loss: 0.0381 - accuracy: 0.9877 - val_loss: 0.0302 - val_accuracy: 0.9919\n",
      "Epoch 7/10\n",
      "938/938 [==============================] - 72s 77ms/step - loss: 0.0358 - accuracy: 0.9884 - val_loss: 0.0332 - val_accuracy: 0.9918\n",
      "Epoch 8/10\n",
      "938/938 [==============================] - 72s 77ms/step - loss: 0.0329 - accuracy: 0.9887 - val_loss: 0.0304 - val_accuracy: 0.9915\n",
      "Epoch 9/10\n",
      "938/938 [==============================] - 72s 77ms/step - loss: 0.0316 - accuracy: 0.9903 - val_loss: 0.0281 - val_accuracy: 0.9929\n",
      "Epoch 10/10\n",
      "938/938 [==============================] - 72s 77ms/step - loss: 0.0258 - accuracy: 0.9919 - val_loss: 0.0274 - val_accuracy: 0.9916\n"
     ]
    }
   ],
   "source": [
    "batch_size = 64\n",
    "epochs = 10\n",
    "\n",
    "training = model.fit(x_train,y_train_hot, batch_size=batch_size, epochs=epochs,\n",
    "                     verbose=1, validation_data=(x_test,y_test_hot))"
   ]
  },
  {
   "cell_type": "code",
   "execution_count": 65,
   "metadata": {},
   "outputs": [
    {
     "name": "stdout",
     "output_type": "stream",
     "text": [
      "[6]\n"
     ]
    }
   ],
   "source": [
    "\n",
    "guesses = model(my_x)\n",
    "yval_guess = np.argmax(guesses,axis=1)\n",
    "mistakes = np.where(yval_guess != yval)[0]\n",
    "print(\"Mistakes\",mistakes)\n",
    "\n"
   ]
  },
  {
   "cell_type": "code",
   "execution_count": 66,
   "metadata": {},
   "outputs": [
    {
     "data": {
      "image/png": "[encoded data removed]",
      "text/plain": [
       "<Figure size 216x288 with 12 Axes>"
      ]
     },
     "metadata": {
      "image/png": {
       "height": 231,
       "width": 180
      },
      "needs_background": "light"
     },
     "output_type": "display_data"
    }
   ],
   "source": [
    "plot_digit_array(mydigits[idx],np.array(yval_guess)[idx],True)"
   ]
  },
  {
   "cell_type": "markdown",
   "metadata": {},
   "source": [
    "My sixes look tilted, rather than re-train my model (again) I am going to pre-process it."
   ]
  },
  {
   "cell_type": "code",
   "execution_count": 68,
   "metadata": {},
   "outputs": [
    {
     "name": "stdout",
     "output_type": "stream",
     "text": [
      "Mistakes: []\n"
     ]
    },
    {
     "data": {
      "image/png": "[encoded data removed]",
      "text/plain": [
       "<Figure size 216x288 with 12 Axes>"
      ]
     },
     "metadata": {
      "image/png": {
       "height": 231,
       "width": 180
      },
      "needs_background": "light"
     },
     "output_type": "display_data"
    }
   ],
   "source": [
    "from scipy import ndimage\n",
    "\n",
    "mydigits_2 = mydigits\n",
    "my_x_2 = my_x\n",
    "angle = 30\n",
    "rotated_digit = np.abs(ndimage.rotate(my_x[6,:,:,0], angle, reshape=False)).astype(float)\n",
    "rotated_digit -= np.min(rotated_digit)\n",
    "rotated_digit /= np.max(rotated_digit)\n",
    "my_x2[6,:,:,0]=rotated_digit\n",
    "mydigits_2[6,:] = rotated_digit.reshape(784)\n",
    "idx = np.arange(10)\n",
    "\n",
    "guesses = model(my_x2)\n",
    "yval_guess = np.argmax(guesses,axis=1)\n",
    "mistakes = np.where(yval_guess != yval)[0]\n",
    "print(\"Mistakes:\",mistakes)\n",
    "plot_digit_array(mydigits[idx],np.array(yval_guess)[idx],True)"
   ]
  },
  {
   "cell_type": "code",
   "execution_count": null,
   "metadata": {},
   "outputs": [],
   "source": []
  }
 ],
 "metadata": {
  "kernelspec": {
   "display_name": "Python 3 (ml4s)",
   "language": "python",
   "name": "ml4s"
  },
  "language_info": {
   "codemirror_mode": {
    "name": "ipython",
    "version": 3
   },
   "file_extension": ".py",
   "mimetype": "text/x-python",
   "name": "python",
   "nbconvert_exporter": "python",
   "pygments_lexer": "ipython3",
   "version": "3.7.9"
  }
 },
 "nbformat": 4,
 "nbformat_minor": 4
}
